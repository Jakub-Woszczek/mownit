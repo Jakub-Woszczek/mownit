{
 "cells": [
  {
   "cell_type": "code",
   "execution_count": 1,
   "metadata": {},
   "outputs": [
    {
     "data": {
      "text/plain": [
       "\"experiment_results.csv\""
      ]
     },
     "execution_count": 1,
     "metadata": {},
     "output_type": "execute_result"
    }
   ],
   "source": [
    "using LinearAlgebra, Random, CSV, DataFrames\n",
    "\n",
    "function generalized_dot(x::Vector, A::Matrix, y::Vector)\n",
    "    return dot(x, A * y)\n",
    "end\n",
    "\n",
    "function matrix_vector_mul(A::Matrix, x::Vector)\n",
    "    return A * x\n",
    "end\n",
    "\n",
    "function measure_time(f, args...)\n",
    "    return @elapsed f(args...)\n",
    "end\n",
    "\n",
    "function run_experiment()\n",
    "    sizes = [i for i in 100:1000:15000]\n",
    "    trials = 10\n",
    "\n",
    "    results = DataFrame(size = Int[], method = String[], time = Float64[])\n",
    "\n",
    "    for n in sizes\n",
    "        for _ in 1:trials\n",
    "            x = rand(n)\n",
    "            x1 = rand(n)\n",
    "            y = rand(n)\n",
    "            A = rand(n, n)\n",
    "            A1 = rand(n, n)\n",
    "\n",
    "            t1 = @elapsed generalized_dot(x,A,y)\n",
    "            push!(results, (n, \"generalized_dot\", t1))\n",
    "\n",
    "            t2 = @elapsed matrix_vector_mul(A1,x1)\n",
    "            push!(results, (n, \"matrix_vector_mul\", t2))\n",
    "        end\n",
    "    end\n",
    "\n",
    "    CSV.write(\"experiment_results.csv\", results)\n",
    "end\n",
    "\n",
    "run_experiment()"
   ]
  },
  {
   "cell_type": "code",
   "execution_count": 3,
   "metadata": {},
   "outputs": [
    {
     "data": {
      "text/plain": [
       "\"experiment_results.csv\""
      ]
     },
     "execution_count": 3,
     "metadata": {},
     "output_type": "execute_result"
    }
   ],
   "source": [
    "using LinearAlgebra, Random, CSV, DataFrames\n",
    "\n",
    "function generalized_dot(x::Vector, A::Matrix, y::Vector)\n",
    "    return dot(x, A * y)\n",
    "end\n",
    "\n",
    "function matrix_vector_mul(A::Matrix, x::Vector)\n",
    "    return A * x\n",
    "end\n",
    "\n",
    "function measure_time(f, args...)\n",
    "    return @elapsed f(args...)\n",
    "end\n",
    "\n",
    "function run_experiment()\n",
    "    sizes = [i for i in 100:1000:15000]\n",
    "    trials = 10\n",
    "\n",
    "    results = DataFrame(size = Int[], method = String[], time = Float64[])\n",
    "\n",
    "    for n in sizes\n",
    "        for i in 1:(trials+1)\n",
    "            x = rand(0:9,n)\n",
    "            x1 = rand(0:9,n)\n",
    "            y = rand(0:9,n)\n",
    "            A = rand(0:9,(n,n))\n",
    "            A1 = rand(0:9,(n,n))\n",
    "\n",
    "            if i > 1\n",
    "                t1 = @elapsed generalized_dot(x,A,y)\n",
    "                push!(results, (n, \"generalized_dot\", t1))\n",
    "    \n",
    "                t2 = @elapsed matrix_vector_mul(A1,x1)\n",
    "                push!(results, (n, \"matrix_vector_mul\", t2))\n",
    "            end\n",
    "        end\n",
    "    end\n",
    "\n",
    "    CSV.write(\"experiment_results.csv\", results)\n",
    "end\n",
    "\n",
    "run_experiment()"
   ]
  }
 ],
 "metadata": {
  "kernelspec": {
   "display_name": "Julia 1.11.3",
   "language": "julia",
   "name": "julia-1.11"
  },
  "language_info": {
   "file_extension": ".jl",
   "mimetype": "application/julia",
   "name": "julia",
   "version": "1.11.3"
  }
 },
 "nbformat": 4,
 "nbformat_minor": 2
}
