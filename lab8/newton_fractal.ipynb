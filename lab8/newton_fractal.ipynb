{
 "cells": [
  {
   "cell_type": "markdown",
   "id": "fd36a794",
   "metadata": {},
   "source": [
    "#### Wzory"
   ]
  },
  {
   "attachments": {
    "image-2.png": {
     "image/png": "[encoded data removed]"
    },
    "image.png": {
     "image/png": "[encoded data removed]"
    }
   },
   "cell_type": "markdown",
   "id": "5a04267d",
   "metadata": {
    "vscode": {
     "languageId": "latex"
    }
   },
   "source": [
    "![image-2.png](attachment:image-2.png){width=20,height=20}\n",
    "![image.png](attachment:image.png)"
   ]
  },
  {
   "cell_type": "markdown",
   "id": "d51b3634",
   "metadata": {},
   "source": [
    "#### Wstęga Newtona"
   ]
  },
  {
   "cell_type": "code",
   "execution_count": null,
   "id": "80ed7542",
   "metadata": {},
   "outputs": [
    {
     "name": "stdout",
     "output_type": "stream",
     "text": [
      "Iteracja 1 zakończona.\n",
      "Iteracja 2 zakończona.\n",
      "Iteracja 3 zakończona.\n",
      "Iteracja 4 zakończona.\n",
      "Iteracja 5 zakończona.\n",
      "Iteracja 6 zakończona.\n",
      "Iteracja 7 zakończona.\n",
      "Iteracja 8 zakończona.\n",
      "Iteracja 9 zakończona.\n",
      "Iteracja 10 zakończona.\n",
      "Iteracja 11 zakończona.\n",
      "Iteracja 12 zakończona.\n",
      "Iteracja 13 zakończona.\n",
      "Iteracja 14 zakończona.\n",
      "Iteracja 15 zakończona.\n",
      "Zapisano: newton_frames_with_dots_simplified/newton_step_00.png\n"
     ]
    },
    {
     "name": "stderr",
     "output_type": "stream",
     "text": [
      "C:\\Users\\icefr\\AppData\\Roaming\\Python\\Python313\\site-packages\\PIL\\Image.py:3402: DecompressionBombWarning: Image size (100000000 pixels) exceeds limit of 89478485 pixels, could be decompression bomb DOS attack.\n",
      "  warnings.warn(\n"
     ]
    },
    {
     "name": "stdout",
     "output_type": "stream",
     "text": [
      "Dodano kropki do: newton_frames_with_dots_simplified/newton_step_00.png\n",
      "Zapisano: newton_frames_with_dots_simplified/newton_step_01.png\n",
      "Dodano kropki do: newton_frames_with_dots_simplified/newton_step_01.png\n",
      "Zapisano: newton_frames_with_dots_simplified/newton_step_02.png\n",
      "Dodano kropki do: newton_frames_with_dots_simplified/newton_step_02.png\n",
      "Zapisano: newton_frames_with_dots_simplified/newton_step_03.png\n",
      "Dodano kropki do: newton_frames_with_dots_simplified/newton_step_03.png\n",
      "Zapisano: newton_frames_with_dots_simplified/newton_step_04.png\n",
      "Dodano kropki do: newton_frames_with_dots_simplified/newton_step_04.png\n",
      "Zapisano: newton_frames_with_dots_simplified/newton_step_05.png\n",
      "Dodano kropki do: newton_frames_with_dots_simplified/newton_step_05.png\n",
      "Zapisano: newton_frames_with_dots_simplified/newton_step_06.png\n",
      "Dodano kropki do: newton_frames_with_dots_simplified/newton_step_06.png\n",
      "Zapisano: newton_frames_with_dots_simplified/newton_step_07.png\n",
      "Dodano kropki do: newton_frames_with_dots_simplified/newton_step_07.png\n",
      "Zapisano: newton_frames_with_dots_simplified/newton_step_08.png\n",
      "Dodano kropki do: newton_frames_with_dots_simplified/newton_step_08.png\n",
      "Zapisano: newton_frames_with_dots_simplified/newton_step_09.png\n",
      "Dodano kropki do: newton_frames_with_dots_simplified/newton_step_09.png\n",
      "Zapisano: newton_frames_with_dots_simplified/newton_step_10.png\n",
      "Dodano kropki do: newton_frames_with_dots_simplified/newton_step_10.png\n",
      "Zapisano: newton_frames_with_dots_simplified/newton_step_11.png\n",
      "Dodano kropki do: newton_frames_with_dots_simplified/newton_step_11.png\n",
      "Zapisano: newton_frames_with_dots_simplified/newton_step_12.png\n",
      "Dodano kropki do: newton_frames_with_dots_simplified/newton_step_12.png\n",
      "Zapisano: newton_frames_with_dots_simplified/newton_step_13.png\n",
      "Dodano kropki do: newton_frames_with_dots_simplified/newton_step_13.png\n",
      "Zapisano: newton_frames_with_dots_simplified/newton_step_14.png\n",
      "Dodano kropki do: newton_frames_with_dots_simplified/newton_step_14.png\n",
      "Zapisano: newton_frames_with_dots_simplified/newton_step_15.png\n",
      "Dodano kropki do: newton_frames_with_dots_simplified/newton_step_15.png\n",
      "Generowanie obrazów zakończone.\n"
     ]
    }
   ],
   "source": [
    "import numpy as np\n",
    "import matplotlib.pyplot as plt\n",
    "import os\n",
    "from PIL import Image, ImageDraw\n",
    "\n",
    "colors = np.array([\n",
    "    [47, 45, 59],\n",
    "    [4, 38, 48],\n",
    "    [134, 185, 176],\n",
    "    [76, 114, 115],\n",
    "    [208, 214, 214]\n",
    "])\n",
    "\n",
    "width, height = 10000, 10000\n",
    "max_iter = 15\n",
    "\n",
    "x_min, x_max = -2, 2\n",
    "y_min, y_max = -2, 2\n",
    "\n",
    "roots = np.array([1+0.5j, -1-1j, 0.5j, -0.5j, 1.5-0.5j], dtype=np.complex128)\n",
    "n_roots = len(roots)\n",
    "\n",
    "kropka_srednica = 20\n",
    "\n",
    "kolor_kropki = (194, 102, 167) # rgb\n",
    "\n",
    "def f(z):\n",
    "    result = np.ones_like(z)\n",
    "    for r in roots:\n",
    "        result *= (z - r)\n",
    "    return result\n",
    "\n",
    "def f_prime(z):\n",
    "    result = np.zeros_like(z)\n",
    "    for i in range(n_roots):\n",
    "        term = np.ones_like(z)\n",
    "        for j in range(n_roots):\n",
    "            if i != j:\n",
    "                term *= (z - roots[j])\n",
    "        result += term\n",
    "    return result\n",
    "\n",
    "# Array from x_min to x_max with width points\n",
    "real_part = np.linspace(x_min, x_max, width)\n",
    "imag_part = np.linspace(y_min, y_max, height)\n",
    "X, Y = np.meshgrid(real_part, imag_part)\n",
    "Z_0 = X + 1j * Y\n",
    "\n",
    "Z_history = np.zeros((max_iter + 1, height, width), dtype=np.complex128)\n",
    "Z_history[0] = Z_0.copy()\n",
    "\n",
    "Z_n = Z_0.copy()\n",
    "\n",
    "for i in range(1, max_iter + 1):\n",
    "    Z_n = Z_n - f(Z_n) / f_prime(Z_n)\n",
    "    Z_history[i] = Z_n\n",
    "    print(f\"Iteracja {i} zakończona.\")\n",
    "\n",
    "output_dir = \"newton_frames_with_dots_simplified\"\n",
    "os.makedirs(output_dir, exist_ok=True)\n",
    "\n",
    "def colorize(z, roots, colors):\n",
    "    z_conjugated_imag = z.real - 1j * z.imag\n",
    "\n",
    "    dist = np.abs(z_conjugated_imag[..., np.newaxis] - roots)\n",
    "\n",
    "    idx = np.argmin(dist, axis=-1)\n",
    "\n",
    "    img = colors[idx].astype(np.uint8)\n",
    "\n",
    "    return img\n",
    "\n",
    "def draw_roots(image_path, roots, kropka_srednica, kolor_kropki):\n",
    "    img = Image.open(image_path).convert(\"RGB\")\n",
    "    draw = ImageDraw.Draw(img)\n",
    "    pixel_scale = width / (x_max - x_min)\n",
    "\n",
    "    for root in roots:\n",
    "        x_pixel = int((root.real - x_min) * pixel_scale)\n",
    "        y_pixel = int((y_max - root.imag) * pixel_scale)\n",
    "\n",
    "        r = kropka_srednica // 2\n",
    "        draw.ellipse([(x_pixel - r, y_pixel - r), (x_pixel + r, y_pixel + r)], fill=kolor_kropki)\n",
    "\n",
    "    img.save(image_path)\n",
    "\n",
    "for i in range(max_iter + 1):\n",
    "    Z = Z_history[i]\n",
    "    img_array = colorize(Z, roots, colors)\n",
    "    filename = f\"{output_dir}/newton_step_{i:02}.png\"\n",
    "    plt.imsave(filename, img_array)\n",
    "    print(f\"Zapisano: {filename}\")\n",
    "    draw_roots(filename, roots, kropka_srednica, kolor_kropki)\n",
    "    print(f\"Dodano kropki do: {filename}\")\n",
    "\n",
    "print(\"Generowanie obrazów zakończone.\")"
   ]
  }
 ],
 "metadata": {
  "kernelspec": {
   "display_name": "Python 3",
   "language": "python",
   "name": "python3"
  },
  "language_info": {
   "codemirror_mode": {
    "name": "ipython",
    "version": 3
   },
   "file_extension": ".py",
   "mimetype": "text/x-python",
   "name": "python",
   "nbconvert_exporter": "python",
   "pygments_lexer": "ipython3",
   "version": "3.13.1"
  }
 },
 "nbformat": 4,
 "nbformat_minor": 5
}
